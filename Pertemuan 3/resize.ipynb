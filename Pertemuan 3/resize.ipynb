{
 "cells": [
  {
   "cell_type": "code",
   "execution_count": 2,
   "metadata": {},
   "outputs": [
    {
     "name": "stdout",
     "output_type": "stream",
     "text": [
      "Original Dimensions\t:  (1600, 2400, 3)\n",
      "Resized Dimensons\t:  (960, 1440, 3)\n"
     ]
    },
    {
     "data": {
      "text/plain": [
       "<function destroyAllWindows>"
      ]
     },
     "execution_count": 2,
     "metadata": {},
     "output_type": "execute_result"
    }
   ],
   "source": [
    "import cv2 as cv\n",
    "import matplotlib.pyplot as plt\n",
    "\n",
    "\"\"\" ------------------ Resize Citra ------------------\"\"\"\n",
    "img = cv.imread('resources/soccer_kid_large.jpg', cv.IMREAD_UNCHANGED)\n",
    "\n",
    "\"\"\" ------------------ 'shape' untuk mendaptkan dimensi citra ------------------\"\"\"\n",
    "print('Original Dimensions\\t: ', img.shape)\n",
    "\n",
    "scale_percent = 60 # Scale 60% dari dimensi asli\n",
    "width = int(img.shape[1]  * scale_percent / 100)\n",
    "height = int(img.shape[0] * scale_percent / 100)\n",
    "\n",
    "\"\"\" Dimensi baru \"\"\"\n",
    "\n",
    "dim = (width, height)\n",
    "\n",
    "\"\"\" 'resize' untuk mengubah dimensi citra \"\"\"\n",
    "resized = cv.resize(img, dim, interpolation = cv.INTER_BITS)\n",
    "\n",
    "print('Resized Dimensons\\t: ', resized.shape)\n",
    "\n",
    "\"\"\" Menyimpan hasil resize \"\"\"\n",
    "cv.imwrite('resources/soccer_kid_small.jpg', resized)\n",
    "\n",
    "cv.imshow(\"Hasil resize citra\", resized)\n",
    "cv.waitKey(0)\n",
    "cv.destroyAllWindows"
   ]
  }
 ],
 "metadata": {
  "interpreter": {
   "hash": "994e635f0a6017ac075d37c11c9cba47a303a0a255256c79e0e8007e694d871f"
  },
  "kernelspec": {
   "display_name": "Python 3.9.7 64-bit ('myenv': venv)",
   "name": "python3"
  },
  "language_info": {
   "codemirror_mode": {
    "name": "ipython",
    "version": 3
   },
   "file_extension": ".py",
   "mimetype": "text/x-python",
   "name": "python",
   "nbconvert_exporter": "python",
   "pygments_lexer": "ipython3",
   "version": "3.10.4"
  },
  "orig_nbformat": 4
 },
 "nbformat": 4,
 "nbformat_minor": 2
}
